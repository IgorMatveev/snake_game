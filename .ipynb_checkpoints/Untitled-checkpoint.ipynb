{
 "cells": [
  {
   "cell_type": "code",
   "execution_count": 1,
   "metadata": {},
   "outputs": [
    {
     "ename": "ModuleNotFoundError",
     "evalue": "No module named 'numpy'",
     "output_type": "error",
     "traceback": [
      "\u001b[0;31m---------------------------------------------------------------------------\u001b[0m",
      "\u001b[0;31mModuleNotFoundError\u001b[0m                       Traceback (most recent call last)",
      "\u001b[0;32m<ipython-input-1-1b961483cbcb>\u001b[0m in \u001b[0;36m<module>\u001b[0;34m\u001b[0m\n\u001b[1;32m      1\u001b[0m \u001b[0;31m# %%writefile run_snake.py\u001b[0m\u001b[0;34m\u001b[0m\u001b[0;34m\u001b[0m\u001b[0;34m\u001b[0m\u001b[0m\n\u001b[0;32m----> 2\u001b[0;31m \u001b[0;32mimport\u001b[0m \u001b[0mnumpy\u001b[0m \u001b[0;32mas\u001b[0m \u001b[0mnp\u001b[0m\u001b[0;34m\u001b[0m\u001b[0;34m\u001b[0m\u001b[0m\n\u001b[0m\u001b[1;32m      3\u001b[0m \u001b[0;32mimport\u001b[0m \u001b[0mpygame\u001b[0m \u001b[0;32mas\u001b[0m \u001b[0mpg\u001b[0m\u001b[0;34m\u001b[0m\u001b[0;34m\u001b[0m\u001b[0m\n\u001b[1;32m      4\u001b[0m \u001b[0;32mimport\u001b[0m \u001b[0mtkinter\u001b[0m \u001b[0;32mas\u001b[0m \u001b[0mtk\u001b[0m\u001b[0;34m\u001b[0m\u001b[0;34m\u001b[0m\u001b[0m\n",
      "\u001b[0;31mModuleNotFoundError\u001b[0m: No module named 'numpy'"
     ]
    }
   ],
   "source": [
    "# %%writefile run_snake.py\n",
    "import numpy as np\n",
    "import pygame as pg\n",
    "import tkinter as tk"
   ]
  },
  {
   "cell_type": "code",
   "execution_count": 6,
   "metadata": {},
   "outputs": [
    {
     "name": "stdout",
     "output_type": "stream",
     "text": [
      "diff empty\n"
     ]
    }
   ],
   "source": [
    "%%bash \n",
    "pip freeze > ~requirements.txt\n",
    "diff requirements.txt ~requirements.txt > ~difference.txt\n",
    "if [ -s ./~difference.txt ] \n",
    "then\n",
    "    cp ./~requirements.txt ./requirements.txt\n",
    "    echo \"requirements updated\"\n",
    "else\n",
    "    echo \"diff empty\"\n",
    "fi"
   ]
  },
  {
   "cell_type": "code",
   "execution_count": 26,
   "metadata": {},
   "outputs": [
    {
     "name": "stdout",
     "output_type": "stream",
     "text": [
      "Appending to run_snake.py\n"
     ]
    }
   ],
   "source": [
    "# %%writefile -a run_snake.py\n",
    "\n",
    "class World():\n",
    "    \"\"\"Мир, в котором существует змейка.\n",
    "Представляет из себя разбитую на квадраты облать окна (карты). В нём\n",
    "могут существовать змейки, есть генератор еды для змеек.\"\"\"\n",
    "    rows = 20\n",
    "    width = 500\n",
    "    objs = []\n",
    "    \n",
    "    def __init__(self):\n",
    "        \"\"\"Создает мир\"\"\"\n",
    "        pass\n",
    "    \n",
    "    def draw(self):\n",
    "        \"\"\"Рисует текущее состояние мира и объектов в нём\"\"\"\n",
    "        pass"
   ]
  },
  {
   "cell_type": "code",
   "execution_count": 27,
   "metadata": {},
   "outputs": [
    {
     "name": "stdout",
     "output_type": "stream",
     "text": [
      "Appending to run_snake.py\n"
     ]
    }
   ],
   "source": [
    "# %%writefile -a run_snake.py\n",
    "\n",
    "\n",
    "class Snake():\n",
    "    \"\"\"Змейка\n",
    "Перемещается, ест еду. Если кусает своё тело или хвост, то умирает.\"\"\"\n",
    "    def __init__(self):\n",
    "        \"\"\"Создает змейку\"\"\"\n",
    "        pass\n",
    "    \n",
    "    def draw(self):\n",
    "        \"\"\"Рисует змейку\"\"\"\n",
    "        pass\n",
    "    \n",
    "    def move(self):\n",
    "        \"\"\"Перемещает змейку\"\"\"\n",
    "        pass\n",
    "    \n",
    "    def selfcheck(self):\n",
    "        \"\"\"Проверяет своё состояние\"\"\"\n",
    "        pass"
   ]
  },
  {
   "cell_type": "code",
   "execution_count": 28,
   "metadata": {},
   "outputs": [
    {
     "name": "stdout",
     "output_type": "stream",
     "text": [
      "Appending to run_snake.py\n"
     ]
    }
   ],
   "source": [
    "# %%writefile -a run_snake.py\n",
    "\n",
    "\n",
    "class Game():\n",
    "    \"\"\"Игра Змейка\n",
    "Создает, запускает и контролирует игру\"\"\"\n",
    "    def __init__(self):\n",
    "        \"\"\"Создает игру\"\"\"\n",
    "        pass\n",
    "    \n",
    "    def _start(self):\n",
    "        \"\"\"Запускает (инициализирует игру)\"\"\"\n",
    "        pass\n",
    "    \n",
    "    def play(self):\n",
    "        \"\"\"Контролирует игру\"\"\""
   ]
  },
  {
   "cell_type": "code",
   "execution_count": null,
   "metadata": {},
   "outputs": [],
   "source": []
  }
 ],
 "metadata": {
  "kernelspec": {
   "display_name": "Python 3",
   "language": "python",
   "name": "python3"
  },
  "language_info": {
   "codemirror_mode": {
    "name": "ipython",
    "version": 3
   },
   "file_extension": ".py",
   "mimetype": "text/x-python",
   "name": "python",
   "nbconvert_exporter": "python",
   "pygments_lexer": "ipython3",
   "version": "3.6.8"
  }
 },
 "nbformat": 4,
 "nbformat_minor": 2
}
